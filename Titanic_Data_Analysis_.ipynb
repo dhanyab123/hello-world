{
  "nbformat": 4,
  "nbformat_minor": 0,
  "metadata": {
    "colab": {
      "name": "Titanic Data Analysis .ipynb",
      "provenance": [],
      "collapsed_sections": [
        "oBnbdxkav-fM",
        "-ocP17HQogIv",
        "Vjmx2dE811Nf"
      ],
      "authorship_tag": "ABX9TyMnoZ4nuX5039GhOyKiBgHE",
      "include_colab_link": true
    },
    "kernelspec": {
      "name": "python3",
      "display_name": "Python 3"
    },
    "language_info": {
      "name": "python"
    }
  },
  "cells": [
    {
      "cell_type": "markdown",
      "metadata": {
        "id": "view-in-github",
        "colab_type": "text"
      },
      "source": [
        "<a href=\"https://colab.research.google.com/github/dhanyab123/hello-world/blob/main/Titanic_Data_Analysis_.ipynb\" target=\"_parent\"><img src=\"https://colab.research.google.com/assets/colab-badge.svg\" alt=\"Open In Colab\"/></a>"
      ]
    },
    {
      "cell_type": "markdown",
      "metadata": {
        "id": "IAU30iQZwLEB"
      },
      "source": [
        "---\n",
        "# **Problem**\n",
        "\n",
        "---\n",
        "\n",
        "\n",
        "\n",
        "\n",
        "Using the Titanic dataset, building convincing visual data to give answers for the following questions.\n",
        " \n",
        "\n",
        "*   Which gender has the highest chance of surviving?\n",
        "*   Did class contribute to passenger survival? If yes, how?\n",
        "*   What is the minimum age required to increase the chances of survival?\n",
        "*   Was there any particular family that ensured the safety of all its family members?\n",
        "*   How many different families were on the Titanic. (You can only consider a family if there are more than 3 members with the same second name)\n",
        "*   Did male passengers have to pay more than female passengers?\n",
        "*   What was the average cost of the ticked based on class, gender and age?\n"
      ]
    },
    {
      "cell_type": "markdown",
      "metadata": {
        "id": "UBYdqd6Dxk7T"
      },
      "source": [
        "\n",
        "\n",
        "---\n",
        "\n"
      ]
    },
    {
      "cell_type": "code",
      "metadata": {
        "id": "DeO7Y3JZMmMl"
      },
      "source": [
        "import numpy as np\n",
        "import pandas as pd\n",
        "import matplotlib.pyplot as plt"
      ],
      "execution_count": null,
      "outputs": []
    },
    {
      "cell_type": "code",
      "metadata": {
        "id": "8XWNXP_JQzJL"
      },
      "source": [
        "from collections import Counter "
      ],
      "execution_count": null,
      "outputs": []
    },
    {
      "cell_type": "code",
      "metadata": {
        "id": "5rxsMYqSM0YG"
      },
      "source": [
        "# ship = pd.read_csv('full.csv')\n",
        "# test = pd.read_csv('test.csv')\n",
        "train = pd.read_csv('train.csv')"
      ],
      "execution_count": null,
      "outputs": []
    },
    {
      "cell_type": "code",
      "metadata": {
        "colab": {
          "base_uri": "https://localhost:8080/",
          "height": 521
        },
        "id": "SIK-I1ATNK7l",
        "outputId": "b431a85a-6aa1-4b16-c413-ac70763e781e"
      },
      "source": [
        "train.head()"
      ],
      "execution_count": null,
      "outputs": [
        {
          "output_type": "execute_result",
          "data": {
            "text/html": [
              "<div>\n",
              "<style scoped>\n",
              "    .dataframe tbody tr th:only-of-type {\n",
              "        vertical-align: middle;\n",
              "    }\n",
              "\n",
              "    .dataframe tbody tr th {\n",
              "        vertical-align: top;\n",
              "    }\n",
              "\n",
              "    .dataframe thead th {\n",
              "        text-align: right;\n",
              "    }\n",
              "</style>\n",
              "<table border=\"1\" class=\"dataframe\">\n",
              "  <thead>\n",
              "    <tr style=\"text-align: right;\">\n",
              "      <th></th>\n",
              "      <th>PassengerId</th>\n",
              "      <th>Survived</th>\n",
              "      <th>Pclass</th>\n",
              "      <th>Name</th>\n",
              "      <th>Sex</th>\n",
              "      <th>Age</th>\n",
              "      <th>SibSp</th>\n",
              "      <th>Parch</th>\n",
              "      <th>Ticket</th>\n",
              "      <th>Fare</th>\n",
              "      <th>Cabin</th>\n",
              "      <th>Embarked</th>\n",
              "      <th>WikiId</th>\n",
              "      <th>Name_wiki</th>\n",
              "      <th>Age_wiki</th>\n",
              "      <th>Hometown</th>\n",
              "      <th>Boarded</th>\n",
              "      <th>Destination</th>\n",
              "      <th>Lifeboat</th>\n",
              "      <th>Body</th>\n",
              "      <th>Class</th>\n",
              "    </tr>\n",
              "  </thead>\n",
              "  <tbody>\n",
              "    <tr>\n",
              "      <th>0</th>\n",
              "      <td>1</td>\n",
              "      <td>0.0</td>\n",
              "      <td>3</td>\n",
              "      <td>Braund, Mr. Owen Harris</td>\n",
              "      <td>male</td>\n",
              "      <td>22.0</td>\n",
              "      <td>1</td>\n",
              "      <td>0</td>\n",
              "      <td>A/5 21171</td>\n",
              "      <td>7.2500</td>\n",
              "      <td>NaN</td>\n",
              "      <td>S</td>\n",
              "      <td>691.0</td>\n",
              "      <td>Braund, Mr. Owen Harris</td>\n",
              "      <td>22.0</td>\n",
              "      <td>Bridgerule, Devon, England</td>\n",
              "      <td>Southampton</td>\n",
              "      <td>Qu'Appelle Valley, Saskatchewan, Canada</td>\n",
              "      <td>NaN</td>\n",
              "      <td>NaN</td>\n",
              "      <td>3.0</td>\n",
              "    </tr>\n",
              "    <tr>\n",
              "      <th>1</th>\n",
              "      <td>2</td>\n",
              "      <td>1.0</td>\n",
              "      <td>1</td>\n",
              "      <td>Cumings, Mrs. John Bradley (Florence Briggs Th...</td>\n",
              "      <td>female</td>\n",
              "      <td>38.0</td>\n",
              "      <td>1</td>\n",
              "      <td>0</td>\n",
              "      <td>PC 17599</td>\n",
              "      <td>71.2833</td>\n",
              "      <td>C85</td>\n",
              "      <td>C</td>\n",
              "      <td>90.0</td>\n",
              "      <td>Cumings, Mrs. Florence Briggs (née Thayer)</td>\n",
              "      <td>35.0</td>\n",
              "      <td>New York, New York, US</td>\n",
              "      <td>Cherbourg</td>\n",
              "      <td>New York, New York, US</td>\n",
              "      <td>4</td>\n",
              "      <td>NaN</td>\n",
              "      <td>1.0</td>\n",
              "    </tr>\n",
              "    <tr>\n",
              "      <th>2</th>\n",
              "      <td>3</td>\n",
              "      <td>1.0</td>\n",
              "      <td>3</td>\n",
              "      <td>Heikkinen, Miss. Laina</td>\n",
              "      <td>female</td>\n",
              "      <td>26.0</td>\n",
              "      <td>0</td>\n",
              "      <td>0</td>\n",
              "      <td>STON/O2. 3101282</td>\n",
              "      <td>7.9250</td>\n",
              "      <td>NaN</td>\n",
              "      <td>S</td>\n",
              "      <td>865.0</td>\n",
              "      <td>Heikkinen, Miss Laina</td>\n",
              "      <td>26.0</td>\n",
              "      <td>Jyväskylä, Finland</td>\n",
              "      <td>Southampton</td>\n",
              "      <td>New York City</td>\n",
              "      <td>14?</td>\n",
              "      <td>NaN</td>\n",
              "      <td>3.0</td>\n",
              "    </tr>\n",
              "    <tr>\n",
              "      <th>3</th>\n",
              "      <td>4</td>\n",
              "      <td>1.0</td>\n",
              "      <td>1</td>\n",
              "      <td>Futrelle, Mrs. Jacques Heath (Lily May Peel)</td>\n",
              "      <td>female</td>\n",
              "      <td>35.0</td>\n",
              "      <td>1</td>\n",
              "      <td>0</td>\n",
              "      <td>113803</td>\n",
              "      <td>53.1000</td>\n",
              "      <td>C123</td>\n",
              "      <td>S</td>\n",
              "      <td>127.0</td>\n",
              "      <td>Futrelle, Mrs. Lily May (née Peel)</td>\n",
              "      <td>35.0</td>\n",
              "      <td>Scituate, Massachusetts, US</td>\n",
              "      <td>Southampton</td>\n",
              "      <td>Scituate, Massachusetts, US</td>\n",
              "      <td>D</td>\n",
              "      <td>NaN</td>\n",
              "      <td>1.0</td>\n",
              "    </tr>\n",
              "    <tr>\n",
              "      <th>4</th>\n",
              "      <td>5</td>\n",
              "      <td>0.0</td>\n",
              "      <td>3</td>\n",
              "      <td>Allen, Mr. William Henry</td>\n",
              "      <td>male</td>\n",
              "      <td>35.0</td>\n",
              "      <td>0</td>\n",
              "      <td>0</td>\n",
              "      <td>373450</td>\n",
              "      <td>8.0500</td>\n",
              "      <td>NaN</td>\n",
              "      <td>S</td>\n",
              "      <td>627.0</td>\n",
              "      <td>Allen, Mr. William Henry</td>\n",
              "      <td>35.0</td>\n",
              "      <td>Birmingham, West Midlands, England</td>\n",
              "      <td>Southampton</td>\n",
              "      <td>New York City</td>\n",
              "      <td>NaN</td>\n",
              "      <td>NaN</td>\n",
              "      <td>3.0</td>\n",
              "    </tr>\n",
              "  </tbody>\n",
              "</table>\n",
              "</div>"
            ],
            "text/plain": [
              "   PassengerId  Survived  Pclass  ... Lifeboat Body  Class\n",
              "0            1       0.0       3  ...      NaN  NaN    3.0\n",
              "1            2       1.0       1  ...        4  NaN    1.0\n",
              "2            3       1.0       3  ...      14?  NaN    3.0\n",
              "3            4       1.0       1  ...        D  NaN    1.0\n",
              "4            5       0.0       3  ...      NaN  NaN    3.0\n",
              "\n",
              "[5 rows x 21 columns]"
            ]
          },
          "metadata": {
            "tags": []
          },
          "execution_count": 5
        }
      ]
    },
    {
      "cell_type": "code",
      "metadata": {
        "colab": {
          "base_uri": "https://localhost:8080/"
        },
        "id": "Ud6u_D63QYqu",
        "outputId": "5422a10f-5b0d-4e46-d64f-c8edd90f0542"
      },
      "source": [
        "train.columns"
      ],
      "execution_count": null,
      "outputs": [
        {
          "output_type": "execute_result",
          "data": {
            "text/plain": [
              "Index(['PassengerId', 'Survived', 'Pclass', 'Name', 'Sex', 'Age', 'SibSp',\n",
              "       'Parch', 'Ticket', 'Fare', 'Cabin', 'Embarked', 'WikiId', 'Name_wiki',\n",
              "       'Age_wiki', 'Hometown', 'Boarded', 'Destination', 'Lifeboat', 'Body',\n",
              "       'Class'],\n",
              "      dtype='object')"
            ]
          },
          "metadata": {
            "tags": []
          },
          "execution_count": 6
        }
      ]
    },
    {
      "cell_type": "code",
      "metadata": {
        "colab": {
          "base_uri": "https://localhost:8080/"
        },
        "id": "7sPB3DicoaiQ",
        "outputId": "d05e55e4-786c-45cd-cf0a-cf1ae4eccc1b"
      },
      "source": [
        "train.info()"
      ],
      "execution_count": null,
      "outputs": [
        {
          "output_type": "stream",
          "text": [
            "<class 'pandas.core.frame.DataFrame'>\n",
            "RangeIndex: 891 entries, 0 to 890\n",
            "Data columns (total 21 columns):\n",
            " #   Column       Non-Null Count  Dtype  \n",
            "---  ------       --------------  -----  \n",
            " 0   PassengerId  891 non-null    int64  \n",
            " 1   Survived     891 non-null    float64\n",
            " 2   Pclass       891 non-null    int64  \n",
            " 3   Name         891 non-null    object \n",
            " 4   Sex          891 non-null    object \n",
            " 5   Age          714 non-null    float64\n",
            " 6   SibSp        891 non-null    int64  \n",
            " 7   Parch        891 non-null    int64  \n",
            " 8   Ticket       891 non-null    object \n",
            " 9   Fare         891 non-null    float64\n",
            " 10  Cabin        204 non-null    object \n",
            " 11  Embarked     889 non-null    object \n",
            " 12  WikiId       889 non-null    float64\n",
            " 13  Name_wiki    889 non-null    object \n",
            " 14  Age_wiki     887 non-null    float64\n",
            " 15  Hometown     889 non-null    object \n",
            " 16  Boarded      889 non-null    object \n",
            " 17  Destination  889 non-null    object \n",
            " 18  Lifeboat     345 non-null    object \n",
            " 19  Body         87 non-null     object \n",
            " 20  Class        889 non-null    float64\n",
            "dtypes: float64(6), int64(4), object(11)\n",
            "memory usage: 146.3+ KB\n"
          ],
          "name": "stdout"
        }
      ]
    },
    {
      "cell_type": "markdown",
      "metadata": {
        "id": "oBnbdxkav-fM"
      },
      "source": [
        "---\n",
        "## Which gender has the highest chance of surviving?"
      ]
    },
    {
      "cell_type": "code",
      "metadata": {
        "id": "vhrQzf63umPS",
        "colab": {
          "base_uri": "https://localhost:8080/"
        },
        "outputId": "8a387fb7-89b5-4697-9671-0229471e9ec0"
      },
      "source": [
        "len(train.loc[(train['Survived'] == 1.0) & (train['Sex'] == 'female')])"
      ],
      "execution_count": null,
      "outputs": [
        {
          "output_type": "execute_result",
          "data": {
            "text/plain": [
              "233"
            ]
          },
          "metadata": {
            "tags": []
          },
          "execution_count": 8
        }
      ]
    },
    {
      "cell_type": "code",
      "metadata": {
        "colab": {
          "base_uri": "https://localhost:8080/"
        },
        "id": "-B-2mRyZuGgX",
        "outputId": "7ed1cb15-a8be-4cc9-d59b-495c5fe6b19e"
      },
      "source": [
        "len(train.loc[(train['Survived'] == 1.0) & (train['Sex'] == 'male')])"
      ],
      "execution_count": null,
      "outputs": [
        {
          "output_type": "execute_result",
          "data": {
            "text/plain": [
              "109"
            ]
          },
          "metadata": {
            "tags": []
          },
          "execution_count": 9
        }
      ]
    },
    {
      "cell_type": "code",
      "metadata": {
        "colab": {
          "base_uri": "https://localhost:8080/",
          "height": 281
        },
        "id": "HXe6x-t1nfXL",
        "outputId": "52f932ed-fe93-478d-b573-5928683f7e60"
      },
      "source": [
        "sur = train.loc[train['Survived'] == 1.0] \n",
        "plt.hist(sur['Sex'], 2) \n",
        "plt.title('How many women and men survived') \n",
        "plt.show()"
      ],
      "execution_count": null,
      "outputs": [
        {
          "output_type": "display_data",
          "data": {
            "image/png": "[encoded data removed]",
            "text/plain": [
              "<Figure size 432x288 with 1 Axes>"
            ]
          },
          "metadata": {
            "tags": [],
            "needs_background": "light"
          }
        }
      ]
    },
    {
      "cell_type": "markdown",
      "metadata": {
        "id": "2MlFoK_vnnL6"
      },
      "source": [
        "Here we can see that most of the people who survived identified as female and so we can infer that they were more likely to survive than the males."
      ]
    },
    {
      "cell_type": "code",
      "metadata": {
        "colab": {
          "base_uri": "https://localhost:8080/",
          "height": 281
        },
        "id": "-3jlc_cwpCg9",
        "outputId": "6e8f17f8-abe8-4651-f99a-64e58faaaaa9"
      },
      "source": [
        "nosur = train.loc[~(train['Survived'] == 1.0)] \n",
        "plt.hist(nosur['Sex'], 2) \n",
        "plt.title('How many women and men did not survive') \n",
        "plt.show()"
      ],
      "execution_count": null,
      "outputs": [
        {
          "output_type": "display_data",
          "data": {
            "image/png": "[encoded data removed]",
            "text/plain": [
              "<Figure size 432x288 with 1 Axes>"
            ]
          },
          "metadata": {
            "tags": [],
            "needs_background": "light"
          }
        }
      ]
    },
    {
      "cell_type": "markdown",
      "metadata": {
        "id": "B08FgH4hplA5"
      },
      "source": [
        "While on the other hand looking at the people who unfortunately did not survive there is clear indication that men were more likely to not have survived."
      ]
    },
    {
      "cell_type": "markdown",
      "metadata": {
        "id": "-ocP17HQogIv"
      },
      "source": [
        "---\n",
        "## Did class contribute to passenger survival? If yes, how?"
      ]
    },
    {
      "cell_type": "code",
      "metadata": {
        "colab": {
          "base_uri": "https://localhost:8080/",
          "height": 265
        },
        "id": "z-JdfX5gzbhS",
        "outputId": "cc728cd7-6d92-4855-d37b-8de6c6f23fd2"
      },
      "source": [
        "plt.hist(sur['Pclass'], 3)\n",
        "plt.show()"
      ],
      "execution_count": null,
      "outputs": [
        {
          "output_type": "display_data",
          "data": {
            "image/png": "[encoded data removed]",
            "text/plain": [
              "<Figure size 432x288 with 1 Axes>"
            ]
          },
          "metadata": {
            "tags": [],
            "needs_background": "light"
          }
        }
      ]
    },
    {
      "cell_type": "markdown",
      "metadata": {
        "id": "ne94HUgWmoL9"
      },
      "source": [
        "Here we can notice that most of the people who survived were from the first class closely followed by third class and finally the second class, so interestingly the second class passengers were less likely to survive than the third class passengers."
      ]
    },
    {
      "cell_type": "code",
      "metadata": {
        "colab": {
          "base_uri": "https://localhost:8080/",
          "height": 265
        },
        "id": "C24zP5BkqN1V",
        "outputId": "78a77969-6958-433c-9433-7267abdee792"
      },
      "source": [
        "plt.hist(nosur['Pclass'], 3) \n",
        "plt.show()"
      ],
      "execution_count": null,
      "outputs": [
        {
          "output_type": "display_data",
          "data": {
            "image/png": "[encoded data removed]",
            "text/plain": [
              "<Figure size 432x288 with 1 Axes>"
            ]
          },
          "metadata": {
            "tags": [],
            "needs_background": "light"
          }
        }
      ]
    },
    {
      "cell_type": "markdown",
      "metadata": {
        "id": "VHfVN85Zx7D5"
      },
      "source": [
        "Here while looking at the people who have not survived we see that most of the people who have not survived belong to the third class so clearly our first inference is really wrong.\n"
      ]
    },
    {
      "cell_type": "code",
      "metadata": {
        "id": "FH5tghEguIPP"
      },
      "source": [
        "# Assigning constants \n",
        "\n",
        "t1 = len(train.loc[(train['Pclass'] == 1)])\n",
        "t1s = len(train.loc[(train['Pclass'] == 1) & (train['Survived'] == 1.0)])\n",
        "t1d = len(train.loc[(train['Pclass'] == 1) & ~(train['Survived'] == 1.0)])\n",
        "\n",
        "t2 = len(train.loc[(train['Pclass'] == 2)])\n",
        "t2s = len(train.loc[(train['Pclass'] == 2) & (train['Survived'] == 1.0)])\n",
        "t2d = len(train.loc[(train['Pclass'] == 2) & ~(train['Survived'] == 1.0)])\n",
        "\n",
        "t3 = len(train.loc[(train['Pclass'] == 3)])\n",
        "t3s = len(train.loc[(train['Pclass'] == 3) & (train['Survived'] == 1.0)])\n",
        "t3d = len(train.loc[(train['Pclass'] == 3) & ~(train['Survived'] == 1.0)])\n"
      ],
      "execution_count": null,
      "outputs": []
    },
    {
      "cell_type": "code",
      "metadata": {
        "colab": {
          "base_uri": "https://localhost:8080/"
        },
        "id": "paupJyIgqzR9",
        "outputId": "624adbc7-0a2e-4216-d794-9ee4607c1b53"
      },
      "source": [
        "print('class 1 : ', t1,'\\n survived : ', t1s,'\\tno survive : ', t1d) \n",
        "print('class 2 : ', t2,'\\n survived : ', t2s,'\\tno survive : ', t2d)\n",
        "print('class 3 : ', t3,'\\n survived : ', t3s,'\\tno survive : ', t3d)"
      ],
      "execution_count": null,
      "outputs": [
        {
          "output_type": "stream",
          "text": [
            "class 1 :  216 \n",
            " survived :  136 \tno survive :  80\n",
            "class 2 :  184 \n",
            " survived :  87 \tno survive :  97\n",
            "class 3 :  491 \n",
            " survived :  119 \tno survive :  372\n"
          ],
          "name": "stdout"
        }
      ]
    },
    {
      "cell_type": "code",
      "metadata": {
        "colab": {
          "base_uri": "https://localhost:8080/",
          "height": 281
        },
        "id": "ahNuTB9UtOdn",
        "outputId": "1e0f38c5-ba15-422f-f257-10086598162f"
      },
      "source": [
        "# Percents of people who died and lived in each class\n",
        "\n",
        "c1s = t1s * 100 / t1\n",
        "c1d = t1d * 100 / t1\n",
        "\n",
        "c2s = t2s * 100 / t2\n",
        "c2d = t2d * 100 / t2\n",
        "\n",
        "c3s = t3s * 100 / t3\n",
        "c3d = t3d * 100 / t3\n",
        "\n",
        "rat = [c1s/c1d,c2s/c2d,c3s/c3d]\n",
        "plt.bar([1,2,3],rat)\n",
        "plt.title('Ratio of people who survived to the number of people who died each class')\n",
        "plt.show()"
      ],
      "execution_count": null,
      "outputs": [
        {
          "output_type": "display_data",
          "data": {
            "image/png": "[encoded data removed]",
            "text/plain": [
              "<Figure size 432x288 with 1 Axes>"
            ]
          },
          "metadata": {
            "tags": [],
            "needs_background": "light"
          }
        }
      ]
    },
    {
      "cell_type": "markdown",
      "metadata": {
        "id": "syNzand20o3N"
      },
      "source": [
        "Here we can clearly see that people in the first class were significantly much more likely to live than compared to the people in the other two classes."
      ]
    },
    {
      "cell_type": "code",
      "metadata": {
        "colab": {
          "base_uri": "https://localhost:8080/",
          "height": 281
        },
        "id": "QKWaNLB2z_-0",
        "outputId": "ddaa39a4-d0e9-4ec6-ee8d-ef2ad8107652"
      },
      "source": [
        "invrat = [c1d/c1s,c2d/c2s,c3d/c3s]\n",
        "plt.bar([1,2,3],invrat, color='red')\n",
        "plt.title('Ratio of people who died to people who survived in each class')\n",
        "plt.show()"
      ],
      "execution_count": null,
      "outputs": [
        {
          "output_type": "display_data",
          "data": {
            "image/png": "[encoded data removed]",
            "text/plain": [
              "<Figure size 432x288 with 1 Axes>"
            ]
          },
          "metadata": {
            "tags": [],
            "needs_background": "light"
          }
        }
      ]
    },
    {
      "cell_type": "markdown",
      "metadata": {
        "id": "VDlmC_wIzH9E"
      },
      "source": [
        "People in the third class were very very unlucky, probably should've gone for a better holiday choice than a cruise."
      ]
    },
    {
      "cell_type": "markdown",
      "metadata": {
        "id": "Vjmx2dE811Nf"
      },
      "source": [
        "---\n",
        "## What is the minimum age required to increase the chances of survival?"
      ]
    },
    {
      "cell_type": "code",
      "metadata": {
        "id": "KZPT4oSYXu-6"
      },
      "source": [
        "# Assigning constants\n",
        "\n",
        "ms = sur.loc[sur['Sex']=='male']\n",
        "fs = sur.loc[~(sur['Sex']=='male')]\n",
        "\n",
        "md = nosur.loc[nosur['Sex']=='male']\n",
        "fd = nosur.loc[~(nosur['Sex']=='male')]"
      ],
      "execution_count": null,
      "outputs": []
    },
    {
      "cell_type": "code",
      "metadata": {
        "colab": {
          "base_uri": "https://localhost:8080/",
          "height": 350
        },
        "id": "wxLPuHxgYgd6",
        "outputId": "d6ad5a4f-2116-4f25-e08a-236e5edaadfc"
      },
      "source": [
        "msage=[]\n",
        "fsage=[]\n",
        "\n",
        "for i in ms['Age_wiki']:\n",
        "  if np.isnan(i) == False:\n",
        "    msage.append(i)\n",
        "\n",
        "for i in fs['Age_wiki']:\n",
        "  if np.isnan(i) == False:\n",
        "    fsage.append(i)\n",
        "    \n",
        "a=plt.figure()\n",
        "a.set_figwidth(10)\n",
        "a.set_figheight(5)\n",
        "plt.hist(msage,histtype='step', label = 'male',)\n",
        "plt.hist(fsage,histtype='step', color = 'red', label = 'female')\n",
        "plt.xlabel('Age')\n",
        "plt.ylabel('Number of people')\n",
        "plt.title('People who survived')\n",
        "plt.legend()\n",
        "plt.show()"
      ],
      "execution_count": null,
      "outputs": [
        {
          "output_type": "display_data",
          "data": {
            "image/png": "[encoded data removed]",
            "text/plain": [
              "<Figure size 720x360 with 1 Axes>"
            ]
          },
          "metadata": {
            "tags": [],
            "needs_background": "light"
          }
        }
      ]
    },
    {
      "cell_type": "markdown",
      "metadata": {
        "id": "OnOlCSBOeMUZ"
      },
      "source": [
        "Most women who survived were around the age of 14-30, while most men who survived were around the age 19- 38."
      ]
    },
    {
      "cell_type": "code",
      "metadata": {
        "colab": {
          "base_uri": "https://localhost:8080/",
          "height": 350
        },
        "id": "bjWb0kzqbci0",
        "outputId": "b89abebe-6995-48c8-e5bb-2c91f24c41cc"
      },
      "source": [
        "mdage=[]\n",
        "fdage=[]\n",
        "\n",
        "for i in md['Age_wiki']:\n",
        "  if np.isnan(i) == False:\n",
        "    mdage.append(i)\n",
        "\n",
        "for i in fd['Age_wiki']:\n",
        "  if np.isnan(i) == False:\n",
        "    fdage.append(i)\n",
        "    \n",
        "a=plt.figure()\n",
        "a.set_figwidth(10)\n",
        "a.set_figheight(5)\n",
        "plt.hist(mdage,histtype='step', label = 'male')\n",
        "plt.hist(fdage,histtype='step', color = 'red', label = 'female')\n",
        "plt.xlabel('Age')\n",
        "plt.ylabel('Number of people')\n",
        "plt.title('People who did not survive')\n",
        "plt.legend()\n",
        "plt.show()"
      ],
      "execution_count": null,
      "outputs": [
        {
          "output_type": "display_data",
          "data": {
            "image/png": "[encoded data removed]",
            "text/plain": [
              "<Figure size 720x360 with 1 Axes>"
            ]
          },
          "metadata": {
            "tags": [],
            "needs_background": "light"
          }
        }
      ]
    },
    {
      "cell_type": "code",
      "metadata": {
        "colab": {
          "base_uri": "https://localhost:8080/",
          "height": 295
        },
        "id": "teJZiJccf8Pc",
        "outputId": "cf3c6926-6506-4f92-f714-cd8023f14817"
      },
      "source": [
        "plt.hist(fdage,histtype='step', color = 'red', label = 'female')\n",
        "plt.xlabel('Age')\n",
        "plt.ylabel('Number of people')\n",
        "plt.title('People who did not survive')\n",
        "plt.legend()\n",
        "plt.show()"
      ],
      "execution_count": null,
      "outputs": [
        {
          "output_type": "display_data",
          "data": {
            "image/png": "[encoded data removed]",
            "text/plain": [
              "<Figure size 432x288 with 1 Axes>"
            ]
          },
          "metadata": {
            "tags": [],
            "needs_background": "light"
          }
        }
      ]
    },
    {
      "cell_type": "markdown",
      "metadata": {
        "id": "TdLREbbyhIxd"
      },
      "source": [
        "Most of the men who died were around the age of 16-30, while the most of the women who died were around 15-30."
      ]
    },
    {
      "cell_type": "markdown",
      "metadata": {
        "id": "1XK9BEeqhyb-"
      },
      "source": [
        "---\n",
        "## Was there any particular family that ensured the safety of all its family members?"
      ]
    },
    {
      "cell_type": "code",
      "metadata": {
        "colab": {
          "base_uri": "https://localhost:8080/",
          "height": 423
        },
        "id": "HWOYgcTMjYHC",
        "outputId": "dea1c12f-d560-499d-da5a-0738d98ce436"
      },
      "source": [
        "name1 = train['Name']\n",
        "name2 = []\n",
        "\n",
        "# Separating the first half of the name\n",
        "for i in name1:\n",
        "  name2.append(i.split(',')[0])\n",
        "\n",
        "# Creating a new data frame with the names and the family names and the survived value\n",
        "data = {'Name' : name1, 'Fam' : name2, 'Sur' : train['Survived'] }\n",
        "datfr = pd.DataFrame(data)\n",
        "\n",
        "# Printing the new dataframe\n",
        "datfr\n"
      ],
      "execution_count": null,
      "outputs": [
        {
          "output_type": "execute_result",
          "data": {
            "text/html": [
              "<div>\n",
              "<style scoped>\n",
              "    .dataframe tbody tr th:only-of-type {\n",
              "        vertical-align: middle;\n",
              "    }\n",
              "\n",
              "    .dataframe tbody tr th {\n",
              "        vertical-align: top;\n",
              "    }\n",
              "\n",
              "    .dataframe thead th {\n",
              "        text-align: right;\n",
              "    }\n",
              "</style>\n",
              "<table border=\"1\" class=\"dataframe\">\n",
              "  <thead>\n",
              "    <tr style=\"text-align: right;\">\n",
              "      <th></th>\n",
              "      <th>Name</th>\n",
              "      <th>Fam</th>\n",
              "      <th>Sur</th>\n",
              "    </tr>\n",
              "  </thead>\n",
              "  <tbody>\n",
              "    <tr>\n",
              "      <th>0</th>\n",
              "      <td>Braund, Mr. Owen Harris</td>\n",
              "      <td>Braund</td>\n",
              "      <td>0.0</td>\n",
              "    </tr>\n",
              "    <tr>\n",
              "      <th>1</th>\n",
              "      <td>Cumings, Mrs. John Bradley (Florence Briggs Th...</td>\n",
              "      <td>Cumings</td>\n",
              "      <td>1.0</td>\n",
              "    </tr>\n",
              "    <tr>\n",
              "      <th>2</th>\n",
              "      <td>Heikkinen, Miss. Laina</td>\n",
              "      <td>Heikkinen</td>\n",
              "      <td>1.0</td>\n",
              "    </tr>\n",
              "    <tr>\n",
              "      <th>3</th>\n",
              "      <td>Futrelle, Mrs. Jacques Heath (Lily May Peel)</td>\n",
              "      <td>Futrelle</td>\n",
              "      <td>1.0</td>\n",
              "    </tr>\n",
              "    <tr>\n",
              "      <th>4</th>\n",
              "      <td>Allen, Mr. William Henry</td>\n",
              "      <td>Allen</td>\n",
              "      <td>0.0</td>\n",
              "    </tr>\n",
              "    <tr>\n",
              "      <th>...</th>\n",
              "      <td>...</td>\n",
              "      <td>...</td>\n",
              "      <td>...</td>\n",
              "    </tr>\n",
              "    <tr>\n",
              "      <th>886</th>\n",
              "      <td>Montvila, Rev. Juozas</td>\n",
              "      <td>Montvila</td>\n",
              "      <td>0.0</td>\n",
              "    </tr>\n",
              "    <tr>\n",
              "      <th>887</th>\n",
              "      <td>Graham, Miss. Margaret Edith</td>\n",
              "      <td>Graham</td>\n",
              "      <td>1.0</td>\n",
              "    </tr>\n",
              "    <tr>\n",
              "      <th>888</th>\n",
              "      <td>Johnston, Miss. Catherine Helen \"Carrie\"</td>\n",
              "      <td>Johnston</td>\n",
              "      <td>0.0</td>\n",
              "    </tr>\n",
              "    <tr>\n",
              "      <th>889</th>\n",
              "      <td>Behr, Mr. Karl Howell</td>\n",
              "      <td>Behr</td>\n",
              "      <td>1.0</td>\n",
              "    </tr>\n",
              "    <tr>\n",
              "      <th>890</th>\n",
              "      <td>Dooley, Mr. Patrick</td>\n",
              "      <td>Dooley</td>\n",
              "      <td>0.0</td>\n",
              "    </tr>\n",
              "  </tbody>\n",
              "</table>\n",
              "<p>891 rows × 3 columns</p>\n",
              "</div>"
            ],
            "text/plain": [
              "                                                  Name        Fam  Sur\n",
              "0                              Braund, Mr. Owen Harris     Braund  0.0\n",
              "1    Cumings, Mrs. John Bradley (Florence Briggs Th...    Cumings  1.0\n",
              "2                               Heikkinen, Miss. Laina  Heikkinen  1.0\n",
              "3         Futrelle, Mrs. Jacques Heath (Lily May Peel)   Futrelle  1.0\n",
              "4                             Allen, Mr. William Henry      Allen  0.0\n",
              "..                                                 ...        ...  ...\n",
              "886                              Montvila, Rev. Juozas   Montvila  0.0\n",
              "887                       Graham, Miss. Margaret Edith     Graham  1.0\n",
              "888           Johnston, Miss. Catherine Helen \"Carrie\"   Johnston  0.0\n",
              "889                              Behr, Mr. Karl Howell       Behr  1.0\n",
              "890                                Dooley, Mr. Patrick     Dooley  0.0\n",
              "\n",
              "[891 rows x 3 columns]"
            ]
          },
          "metadata": {
            "tags": []
          },
          "execution_count": 22
        }
      ]
    },
    {
      "cell_type": "code",
      "metadata": {
        "colab": {
          "base_uri": "https://localhost:8080/",
          "height": 283
        },
        "id": "Y8XoiFPZw1x6",
        "outputId": "e11fc0b2-2162-43f9-c820-3179d55e8251"
      },
      "source": [
        "# This cell considers two people or more with the same second name as a family\n",
        "\n",
        "d = Counter(datfr['Fam'])\n",
        "yy = []\n",
        "fam = 0\n",
        "\n",
        "for i in d:\n",
        "  if d.get(i) > 1:\n",
        "    g = datfr.loc[(datfr['Fam'] == i)]\n",
        "    if len(g.loc[g['Sur']==1.0]) == len(g['Sur']):\n",
        "      yy.append(len(g['Sur']))\n",
        "      # print(g)\n",
        "      fam+=1\n",
        "      \n",
        "xx=[i for i in range(len(yy))]\n",
        "\n",
        "print('Number of families that survived:', fam)\n",
        "\n",
        "plt.bar(xx,yy, align='edge')\n",
        "plt.show()"
      ],
      "execution_count": null,
      "outputs": [
        {
          "output_type": "stream",
          "text": [
            "Number of families that survived: 32\n"
          ],
          "name": "stdout"
        },
        {
          "output_type": "display_data",
          "data": {
            "image/png": "[encoded data removed]",
            "text/plain": [
              "<Figure size 432x288 with 1 Axes>"
            ]
          },
          "metadata": {
            "tags": [],
            "needs_background": "light"
          }
        }
      ]
    },
    {
      "cell_type": "code",
      "metadata": {
        "colab": {
          "base_uri": "https://localhost:8080/",
          "height": 283
        },
        "id": "9Ovf_BrG31pc",
        "outputId": "358ff426-5a3e-41a5-dbed-eda1cb05034a"
      },
      "source": [
        "# This cell considers more than 3 people with the same second name as a family\n",
        "\n",
        "d = Counter(datfr['Fam'])\n",
        "yy = []\n",
        "fam = 0\n",
        "\n",
        "for i in d:\n",
        "  if d.get(i) > 3:\n",
        "    g = datfr.loc[(datfr['Fam'] == i)]\n",
        "    if len(g.loc[g['Sur']==1.0]) == len(g['Sur']):\n",
        "      # print(g)\n",
        "      yy.append(len(g['Sur']))\n",
        "      fam+=1\n",
        "      \n",
        "xx = [i for i in range(len(yy))]\n",
        "\n",
        "print('Number of families that survived:', fam)\n",
        "\n",
        "plt.bar(xx,yy, align='edge')\n",
        "plt.show()"
      ],
      "execution_count": null,
      "outputs": [
        {
          "output_type": "stream",
          "text": [
            "Number of families that survived: 1\n"
          ],
          "name": "stdout"
        },
        {
          "output_type": "display_data",
          "data": {
            "image/png": "[encoded data removed]",
            "text/plain": [
              "<Figure size 432x288 with 1 Axes>"
            ]
          },
          "metadata": {
            "tags": [],
            "needs_background": "light"
          }
        }
      ]
    },
    {
      "cell_type": "markdown",
      "metadata": {
        "id": "hS5EstaHxtl0"
      },
      "source": [
        "---\n",
        "## How many different families were on the Titanic. "
      ]
    },
    {
      "cell_type": "code",
      "metadata": {
        "colab": {
          "base_uri": "https://localhost:8080/",
          "height": 313
        },
        "id": "_KLtFENiRe8w",
        "outputId": "2fdadefe-d53d-4711-a148-759192d87f44"
      },
      "source": [
        "name=[]\n",
        "\n",
        "for i in train['Name']:\n",
        "  name.append(i.split(',')[0])\n",
        "\n",
        "fam = 0\n",
        "c = Counter(name)\n",
        "\n",
        "for i in c:\n",
        "  if c.get(i) > 3:\n",
        "    fam+=1\n",
        "\n",
        "e=[]\n",
        "\n",
        "for i in c.values():\n",
        "  if i > 3:\n",
        "    e.append(i)\n",
        "\n",
        "plt.hist(e)\n",
        "plt.xlabel('Number of people in a family')\n",
        "plt.ylabel('Number of families')\n",
        "plt.title('Number of Families on the Titanic')\n",
        "plt.show()\n",
        "print('There were', fam,'families on the titanic')"
      ],
      "execution_count": null,
      "outputs": [
        {
          "output_type": "display_data",
          "data": {
            "image/png": "[encoded data removed]",
            "text/plain": [
              "<Figure size 432x288 with 1 Axes>"
            ]
          },
          "metadata": {
            "tags": [],
            "needs_background": "light"
          }
        },
        {
          "output_type": "stream",
          "text": [
            "There were 22 families on the titanic\n"
          ],
          "name": "stdout"
        }
      ]
    },
    {
      "cell_type": "markdown",
      "metadata": {
        "id": "UD0o7OMzx_dm"
      },
      "source": [
        "---\n",
        "## Did male passengers have to pay more than female passengers?"
      ]
    },
    {
      "cell_type": "markdown",
      "metadata": {
        "id": "SLAL_J5LN0gJ"
      },
      "source": [
        "### In class 1"
      ]
    },
    {
      "cell_type": "code",
      "metadata": {
        "id": "IYfYNhSpLVOw"
      },
      "source": [
        "m = train.loc[(train['Sex'] == 'male') & (train['Pclass'] == 1)]\n",
        "f = train.loc[(train['Sex'] == 'female') & (train['Pclass'] == 1)]\n",
        "\n",
        "# len(m) = 122  ; len(f) = 94\n",
        "\n",
        "# Taking a sample of 90 values from each as the number of men is greater than the number of women\n",
        "m = m.sample(90)\n",
        "f = f.sample(90)\n"
      ],
      "execution_count": null,
      "outputs": []
    },
    {
      "cell_type": "code",
      "metadata": {
        "colab": {
          "base_uri": "https://localhost:8080/",
          "height": 265
        },
        "id": "kwD3TO-qLsrL",
        "outputId": "efaba03b-f201-4abe-a27e-f902ef86ea03"
      },
      "source": [
        "# Resetting the indexes of the values and combining them into one dataframe so as to compare the value of the price they paid\n",
        "\n",
        "# Resetting index\n",
        "y = m.reset_index(drop=True)\n",
        "z = f.reset_index(drop=True)\n",
        "\n",
        "# Combining the two series\n",
        "dun = pd.concat([y['Fare'], z['Fare']], axis = 1, ignore_index=True)\n",
        "\n",
        "# Renaming the columns\n",
        "dun.columns = ['mfare', 'ffare']\n",
        "\n",
        "# Creating a column called 'fare comp' which compares the value of the fares paid by women and men. \n",
        "# It returns True if the fare paid by women is greater than or equal to the fare paid by the men in each row and False if vice versa.\n",
        "dun['fare comp'] = dun['ffare'].ge(dun['mfare'])\n",
        "\n",
        "# Creating another column to replace the True and False values into integers 1 and 0 for True and False values respectively.\n",
        "dun['fare comp val'] = dun['fare comp'].replace([True, False], [1, 0])\n",
        "\n",
        "# Plotting a histogram to compare the values and see who paid more\n",
        "# If the graph is higher at 1.0 it indicates that the women paid more, else the men paid more\n",
        "dun['fare comp val'].plot.hist()\n",
        "\n",
        "plt.show()\n",
        "del dun"
      ],
      "execution_count": null,
      "outputs": [
        {
          "output_type": "display_data",
          "data": {
            "image/png": "[encoded data removed]",
            "text/plain": [
              "<Figure size 432x288 with 1 Axes>"
            ]
          },
          "metadata": {
            "tags": [],
            "needs_background": "light"
          }
        }
      ]
    },
    {
      "cell_type": "markdown",
      "metadata": {
        "id": "WXuUuQ-9SDEA"
      },
      "source": [
        "The women paid more than or equal to the amount that the men paid for the fare."
      ]
    },
    {
      "cell_type": "markdown",
      "metadata": {
        "id": "KaYUhHCHRjHT"
      },
      "source": [
        "### In class 2"
      ]
    },
    {
      "cell_type": "code",
      "metadata": {
        "id": "qfNQhAmyL2up"
      },
      "source": [
        "m = train.loc[(train['Sex'] == 'male') & (train['Pclass'] == 2)]\n",
        "f = train.loc[(train['Sex'] == 'female') & (train['Pclass'] == 2)]\n",
        "\n",
        "# len(m) = 108  ; len(f) = 76\n",
        "\n",
        "# Taking a sample of 70 values from each as the number of men is greater than the number of women\n",
        "m = m.sample(70)\n",
        "f = f.sample(70)\n"
      ],
      "execution_count": null,
      "outputs": []
    },
    {
      "cell_type": "code",
      "metadata": {
        "colab": {
          "base_uri": "https://localhost:8080/",
          "height": 265
        },
        "id": "rIv7OZxGMTb6",
        "outputId": "5f3b6347-3d16-423f-9dde-9eb305ef0fcf"
      },
      "source": [
        "# Resetting the indexes of the values and combining them into one dataframe so as to compare the value of the price they paid\n",
        "\n",
        "# Resetting index\n",
        "y=m.reset_index(drop=True)\n",
        "z=f.reset_index(drop=True)\n",
        "\n",
        "# Combining the two series\n",
        "dun = pd.concat([y['Fare'], z['Fare']], axis = 1, ignore_index=True)\n",
        "\n",
        "# Renaming the columns\n",
        "dun.columns = ['mfare', 'ffare']\n",
        "\n",
        "# Creating a column called 'fare comp' which compares the value of the fares paid by women and men. \n",
        "# It returns True if the fare paid by women is greater than or equal to the fare paid by the men in each row and False if vice versa.\n",
        "dun['fare comp'] = dun['ffare'].ge(dun['mfare'])\n",
        "\n",
        "# Creating another column to replace the True and False values into integers 1 and 0 for True and False values respectively.\n",
        "dun['fare comp val'] = dun['fare comp'].replace([True, False], [1, 0])\n",
        "\n",
        "# Plotting a histogram to compare the values and see who paid more\n",
        "# If the graph is higher at 1.0 it indicates that the women paid more, else the men paid more\n",
        "dun['fare comp val'].plot.hist()\n",
        "\n",
        "plt.show()\n",
        "del dun"
      ],
      "execution_count": null,
      "outputs": [
        {
          "output_type": "display_data",
          "data": {
            "image/png": "[encoded data removed]",
            "text/plain": [
              "<Figure size 432x288 with 1 Axes>"
            ]
          },
          "metadata": {
            "tags": [],
            "needs_background": "light"
          }
        }
      ]
    },
    {
      "cell_type": "markdown",
      "metadata": {
        "id": "hBsFeazVSob-"
      },
      "source": [
        "The women paid more than or equal to the amount that the men paid."
      ]
    },
    {
      "cell_type": "markdown",
      "metadata": {
        "id": "xhNXgpyVRn6J"
      },
      "source": [
        "### In class 3"
      ]
    },
    {
      "cell_type": "code",
      "metadata": {
        "id": "MHXF_cOHyRn8"
      },
      "source": [
        "m = train.loc[(train['Sex'] == 'male') & (train['Pclass'] == 3)]\n",
        "f = train.loc[(train['Sex'] == 'female') & (train['Pclass'] == 3)]\n",
        "\n",
        "# len(m) = 347  ; len(f) = 144\n",
        "\n",
        "# Taking a sample of 100 values from each as the number of men is greater than the number of women\n",
        "m = m.sample(140)\n",
        "f = f.sample(140)\n"
      ],
      "execution_count": null,
      "outputs": []
    },
    {
      "cell_type": "code",
      "metadata": {
        "colab": {
          "base_uri": "https://localhost:8080/",
          "height": 265
        },
        "id": "0q0mD5U2-lbp",
        "outputId": "ecc6bfa7-5e63-4ba9-f4a9-19c1812d7961"
      },
      "source": [
        "# Resetting the indexes of the values and combining them into one dataframe so as to compare the value of the price they paid\n",
        "\n",
        "# Resetting index\n",
        "y=m.reset_index(drop=True)\n",
        "z=f.reset_index(drop=True)\n",
        "\n",
        "# Combining the two series\n",
        "dun = pd.concat([y['Fare'], z['Fare']], axis = 1, ignore_index=True)\n",
        "\n",
        "# Renaming the columns\n",
        "dun.columns = ['mfare', 'ffare']\n",
        "\n",
        "# Creating a column called 'fare comp' which compares the value of the fares paid by women and men. \n",
        "# It returns True if the fare paid by women is greater than or equal to the fare paid by the men in each row and False if vice versa.\n",
        "dun['fare comp'] = dun['ffare'].ge(dun['mfare'])\n",
        "\n",
        "# Creating another column to replace the True and False values into integers 1 and 0 for True and False values respectively.\n",
        "dun['fare comp val'] = dun['fare comp'].replace([True, False], [1, 0])\n",
        "\n",
        "# Plotting a histogram to compare the values and see who paid more\n",
        "# If the 1.0 is higher it indicates that the women paid more, and if 0.0 is higher it indicates that the men paid more\n",
        "dun['fare comp val'].plot.hist()\n",
        "\n",
        "plt.show()\n",
        "del dun"
      ],
      "execution_count": null,
      "outputs": [
        {
          "output_type": "display_data",
          "data": {
            "image/png": "[encoded data removed]",
            "text/plain": [
              "<Figure size 432x288 with 1 Axes>"
            ]
          },
          "metadata": {
            "tags": [],
            "needs_background": "light"
          }
        }
      ]
    },
    {
      "cell_type": "markdown",
      "metadata": {
        "id": "wKXGzquOSv5B"
      },
      "source": [
        "Again the women paid more than the men."
      ]
    },
    {
      "cell_type": "markdown",
      "metadata": {
        "id": "MxDA8SdqRrQ0"
      },
      "source": [
        "### Considering all the Passengers regardless of class"
      ]
    },
    {
      "cell_type": "code",
      "metadata": {
        "id": "G4rX4GdOQ5Nm"
      },
      "source": [
        "m = train.loc[(train['Sex'] == 'male')]\n",
        "f = train.loc[(train['Sex'] == 'female')]\n",
        "\n",
        "# len(m) = 577  ; len(f) = 314\n",
        "\n",
        "# Taking a sample of 310 values from each as the number of men is greater than the number of women\n",
        "m = m.sample(310)\n",
        "f = f.sample(310)\n"
      ],
      "execution_count": null,
      "outputs": []
    },
    {
      "cell_type": "code",
      "metadata": {
        "colab": {
          "base_uri": "https://localhost:8080/",
          "height": 265
        },
        "id": "6Icy_HOxRRto",
        "outputId": "32b61075-7398-4727-9680-bea889619ece"
      },
      "source": [
        "# Resetting the indexes of the values and combining them into one dataframe so as to compare the value of the price they paid\n",
        "\n",
        "# Resetting index\n",
        "y=m.reset_index(drop=True)\n",
        "z=f.reset_index(drop=True)\n",
        "\n",
        "# Combining the two series\n",
        "dun = pd.concat([y['Fare'], z['Fare']], axis = 1, ignore_index=True)\n",
        "\n",
        "# Renaming the columns\n",
        "dun.columns = ['mfare', 'ffare']\n",
        "\n",
        "# Creating a column called 'fare comp' which compares the value of the fares paid by women and men. \n",
        "# It returns True if the fare paid by women is greater than or equal to the fare paid by the men in each row and False if vice versa.\n",
        "dun['fare comp'] = dun['ffare'].ge(dun['mfare'])\n",
        "\n",
        "# Creating another column to replace the True and False values into integers 1 and 0 for True and False values respectively.\n",
        "dun['fare comp val'] = dun['fare comp'].replace([True, False], [1, 0])\n",
        "\n",
        "# Plotting a histogram to compare the values and see who paid more\n",
        "# If the 1.0 is higher it indicates that the women paid more, and if 0.0 is higher it indicates that the men paid more\n",
        "dun['fare comp val'].plot.hist()\n",
        "\n",
        "plt.show()\n",
        "del dun"
      ],
      "execution_count": null,
      "outputs": [
        {
          "output_type": "display_data",
          "data": {
            "image/png": "[encoded data removed]",
            "text/plain": [
              "<Figure size 432x288 with 1 Axes>"
            ]
          },
          "metadata": {
            "tags": [],
            "needs_background": "light"
          }
        }
      ]
    },
    {
      "cell_type": "markdown",
      "metadata": {
        "id": "GmszDG6hS503"
      },
      "source": [
        "Considering all the passengers on board the women paid more than or equal to the amount that the men paid."
      ]
    },
    {
      "cell_type": "markdown",
      "metadata": {
        "id": "kbVH9RU5UE1E"
      },
      "source": [
        "---\n",
        "## What was the average cost of the ticked based on class, gender and age?"
      ]
    },
    {
      "cell_type": "markdown",
      "metadata": {
        "id": "XzVS9zrmcS18"
      },
      "source": [
        "### Based on Class"
      ]
    },
    {
      "cell_type": "code",
      "metadata": {
        "id": "YDbllEVoZH7T"
      },
      "source": [
        "fare_1 = train.loc[(train['Pclass'] == 1)]\n",
        "fare_2 = train.loc[(train['Pclass'] == 2)]\n",
        "fare_3 = train.loc[(train['Pclass'] == 3)]"
      ],
      "execution_count": null,
      "outputs": []
    },
    {
      "cell_type": "code",
      "metadata": {
        "colab": {
          "base_uri": "https://localhost:8080/",
          "height": 299
        },
        "id": "-pgEAPwqY1MJ",
        "outputId": "1cb40ad2-1e2b-4903-d61e-51f16d81b09e"
      },
      "source": [
        "print(np.average(fare_1['Fare']))\n",
        "fare_1['Fare'].plot.hist()\n",
        "plt.title('Fare for People in Class 1')\n",
        "plt.show()"
      ],
      "execution_count": null,
      "outputs": [
        {
          "output_type": "stream",
          "text": [
            "84.1546875\n"
          ],
          "name": "stdout"
        },
        {
          "output_type": "display_data",
          "data": {
            "image/png": "[encoded data removed]",
            "text/plain": [
              "<Figure size 432x288 with 1 Axes>"
            ]
          },
          "metadata": {
            "tags": [],
            "needs_background": "light"
          }
        }
      ]
    },
    {
      "cell_type": "markdown",
      "metadata": {
        "id": "QqObCEGYcW9P"
      },
      "source": [
        "Average fare for the first class was around 84"
      ]
    },
    {
      "cell_type": "code",
      "metadata": {
        "colab": {
          "base_uri": "https://localhost:8080/",
          "height": 299
        },
        "id": "OgzdQUSwZObw",
        "outputId": "c1f14c06-8983-4814-94c3-1d3e49db7977"
      },
      "source": [
        "print(np.average(fare_2['Fare']))\n",
        "fare_2['Fare'].plot.hist()\n",
        "plt.title('Fare for People in Class 2')\n",
        "plt.show()"
      ],
      "execution_count": null,
      "outputs": [
        {
          "output_type": "stream",
          "text": [
            "20.662183152173913\n"
          ],
          "name": "stdout"
        },
        {
          "output_type": "display_data",
          "data": {
            "image/png": "[encoded data removed]",
            "text/plain": [
              "<Figure size 432x288 with 1 Axes>"
            ]
          },
          "metadata": {
            "tags": [],
            "needs_background": "light"
          }
        }
      ]
    },
    {
      "cell_type": "markdown",
      "metadata": {
        "id": "1giWDV8MccSU"
      },
      "source": [
        "Average fare for the second class was around 20"
      ]
    },
    {
      "cell_type": "code",
      "metadata": {
        "colab": {
          "base_uri": "https://localhost:8080/",
          "height": 299
        },
        "id": "qSGUzayjZQ1W",
        "outputId": "25ccfecf-8c90-4843-84aa-027dbdaec732"
      },
      "source": [
        "print(np.average(fare_3['Fare']))\n",
        "fare_3['Fare'].plot.hist()\n",
        "plt.title('Fare for People in Class 3')\n",
        "plt.show()"
      ],
      "execution_count": null,
      "outputs": [
        {
          "output_type": "stream",
          "text": [
            "13.675550101832993\n"
          ],
          "name": "stdout"
        },
        {
          "output_type": "display_data",
          "data": {
            "image/png": "[encoded data removed]",
            "text/plain": [
              "<Figure size 432x288 with 1 Axes>"
            ]
          },
          "metadata": {
            "tags": [],
            "needs_background": "light"
          }
        }
      ]
    },
    {
      "cell_type": "markdown",
      "metadata": {
        "id": "o-0nEaDOchF3"
      },
      "source": [
        "Average fare for the third class was around 13"
      ]
    },
    {
      "cell_type": "markdown",
      "metadata": {
        "id": "HCnAtWJGb1Xw"
      },
      "source": [
        "### Based on Gender"
      ]
    },
    {
      "cell_type": "code",
      "metadata": {
        "id": "aJsYkS9uUX35"
      },
      "source": [
        "fare_male = train.loc[(train['Sex'] == 'male')]\n",
        "fare_female = train.loc[(train['Sex'] == 'female')]"
      ],
      "execution_count": null,
      "outputs": []
    },
    {
      "cell_type": "code",
      "metadata": {
        "colab": {
          "base_uri": "https://localhost:8080/",
          "height": 299
        },
        "id": "WNAQ02rMV_J7",
        "outputId": "ae692e6f-d005-4084-d783-44a21bb2bed0"
      },
      "source": [
        "# plt.figure(figsize=(10,10))\n",
        "print(np.average(fare_male['Fare']))\n",
        "fare_male['Fare'].plot.hist()\n",
        "plt.title('Fare for men')\n",
        "plt.show()"
      ],
      "execution_count": null,
      "outputs": [
        {
          "output_type": "stream",
          "text": [
            "25.523893414211443\n"
          ],
          "name": "stdout"
        },
        {
          "output_type": "display_data",
          "data": {
            "image/png": "[encoded data removed]",
            "text/plain": [
              "<Figure size 432x288 with 1 Axes>"
            ]
          },
          "metadata": {
            "tags": [],
            "needs_background": "light"
          }
        }
      ]
    },
    {
      "cell_type": "markdown",
      "metadata": {
        "id": "gEqGSgtRb-YN"
      },
      "source": [
        "Average fare for men was around 25"
      ]
    },
    {
      "cell_type": "code",
      "metadata": {
        "colab": {
          "base_uri": "https://localhost:8080/",
          "height": 299
        },
        "id": "oEUdrhVfWAGZ",
        "outputId": "e4bfa530-868b-4314-f8d9-0f0bddbfccb4"
      },
      "source": [
        "# plt.figure(figsize=(10,10))\n",
        "print(np.average(fare_female['Fare']))\n",
        "fare_female['Fare'].plot.hist()\n",
        "plt.title('Fare for women')\n",
        "plt.show()"
      ],
      "execution_count": null,
      "outputs": [
        {
          "output_type": "stream",
          "text": [
            "44.47981783439491\n"
          ],
          "name": "stdout"
        },
        {
          "output_type": "display_data",
          "data": {
            "image/png": "[encoded data removed]",
            "text/plain": [
              "<Figure size 432x288 with 1 Axes>"
            ]
          },
          "metadata": {
            "tags": [],
            "needs_background": "light"
          }
        }
      ]
    },
    {
      "cell_type": "markdown",
      "metadata": {
        "id": "9YOZMfvjcHAk"
      },
      "source": [
        "Average fare for women was around 44 "
      ]
    },
    {
      "cell_type": "markdown",
      "metadata": {
        "id": "10U8GO64clYI"
      },
      "source": [
        "### Based on Age"
      ]
    },
    {
      "cell_type": "code",
      "metadata": {
        "id": "QaI6FwWBZaEn"
      },
      "source": [
        "# min = 0.42 ;  max = 80\n",
        "\n",
        "fare_11 = train.loc[(train['Age'] <= 10) & (train['Age'] > 0)]\n",
        "fare_12 = train.loc[(train['Age'] <= 20) & (train['Age'] > 10)]\n",
        "fare_13 = train.loc[(train['Age'] <= 30) & (train['Age'] > 20)]\n",
        "fare_14 = train.loc[(train['Age'] <= 40) & (train['Age'] > 30)]\n",
        "fare_15 = train.loc[(train['Age'] <= 50) & (train['Age'] > 40)]\n",
        "fare_16 = train.loc[(train['Age'] <= 60) & (train['Age'] > 50)]\n",
        "fare_17 = train.loc[(train['Age'] <= 70) & (train['Age'] > 60)]\n",
        "fare_18 = train.loc[(train['Age'] <= 80) & (train['Age'] > 70)]\n"
      ],
      "execution_count": null,
      "outputs": []
    },
    {
      "cell_type": "code",
      "metadata": {
        "colab": {
          "base_uri": "https://localhost:8080/",
          "height": 299
        },
        "id": "vEb5qyeAbCCN",
        "outputId": "cdbe4d15-4e59-458f-eeef-ace32b1b2a4b"
      },
      "source": [
        "print(np.average(fare_11['Fare']))\n",
        "fare_11['Fare'].plot.hist()\n",
        "plt.title('Fare for people aged 0 - 10')\n",
        "plt.show()"
      ],
      "execution_count": null,
      "outputs": [
        {
          "output_type": "stream",
          "text": [
            "30.4344390625\n"
          ],
          "name": "stdout"
        },
        {
          "output_type": "display_data",
          "data": {
            "image/png": "[encoded data removed]",
            "text/plain": [
              "<Figure size 432x288 with 1 Axes>"
            ]
          },
          "metadata": {
            "tags": [],
            "needs_background": "light"
          }
        }
      ]
    },
    {
      "cell_type": "markdown",
      "metadata": {
        "id": "mr4Y5JpJcpqU"
      },
      "source": [
        "Average fare for people aged 0 - 10 was around 30"
      ]
    },
    {
      "cell_type": "code",
      "metadata": {
        "colab": {
          "base_uri": "https://localhost:8080/",
          "height": 299
        },
        "id": "75I2RUSPbNtw",
        "outputId": "a7055e7f-1bf5-42eb-b222-3a6898b30a35"
      },
      "source": [
        "print(np.average(fare_12['Fare']))\n",
        "fare_12['Fare'].plot.hist()\n",
        "plt.title('Fare for people aged 10 - 20')\n",
        "plt.show()"
      ],
      "execution_count": null,
      "outputs": [
        {
          "output_type": "stream",
          "text": [
            "29.529531304347824\n"
          ],
          "name": "stdout"
        },
        {
          "output_type": "display_data",
          "data": {
            "image/png": "[encoded data removed]",
            "text/plain": [
              "<Figure size 432x288 with 1 Axes>"
            ]
          },
          "metadata": {
            "tags": [],
            "needs_background": "light"
          }
        }
      ]
    },
    {
      "cell_type": "markdown",
      "metadata": {
        "id": "8RsedI4AcwQY"
      },
      "source": [
        "Average fare for people aged 10 - 20 was around 29"
      ]
    },
    {
      "cell_type": "code",
      "metadata": {
        "colab": {
          "base_uri": "https://localhost:8080/",
          "height": 299
        },
        "id": "xmKyKi_SbQG9",
        "outputId": "642e072f-c786-4780-9761-b2a9dde69c48"
      },
      "source": [
        "print(np.average(fare_13['Fare']))\n",
        "fare_13['Fare'].plot.hist()\n",
        "plt.title('Fare for people aged 20 - 30')\n",
        "plt.show()"
      ],
      "execution_count": null,
      "outputs": [
        {
          "output_type": "stream",
          "text": [
            "28.306718695652172\n"
          ],
          "name": "stdout"
        },
        {
          "output_type": "display_data",
          "data": {
            "image/png": "[encoded data removed]",
            "text/plain": [
              "<Figure size 432x288 with 1 Axes>"
            ]
          },
          "metadata": {
            "tags": [],
            "needs_background": "light"
          }
        }
      ]
    },
    {
      "cell_type": "markdown",
      "metadata": {
        "id": "DZo7heLUc1QF"
      },
      "source": [
        "Average fare for people aged 20 - 30 was around 28"
      ]
    },
    {
      "cell_type": "code",
      "metadata": {
        "colab": {
          "base_uri": "https://localhost:8080/",
          "height": 299
        },
        "id": "WG539YgybU6B",
        "outputId": "6169fd34-3439-4f73-9b70-a342398b75bc"
      },
      "source": [
        "print(np.average(fare_14['Fare']))\n",
        "fare_14['Fare'].plot.hist()\n",
        "plt.title('Fare for people aged 30 - 40')\n",
        "plt.show()"
      ],
      "execution_count": null,
      "outputs": [
        {
          "output_type": "stream",
          "text": [
            "42.496100000000006\n"
          ],
          "name": "stdout"
        },
        {
          "output_type": "display_data",
          "data": {
            "image/png": "[encoded data removed]",
            "text/plain": [
              "<Figure size 432x288 with 1 Axes>"
            ]
          },
          "metadata": {
            "tags": [],
            "needs_background": "light"
          }
        }
      ]
    },
    {
      "cell_type": "markdown",
      "metadata": {
        "id": "f3Maffxqc70_"
      },
      "source": [
        "Average fare for people aged 30 - 40 is around 42"
      ]
    },
    {
      "cell_type": "code",
      "metadata": {
        "colab": {
          "base_uri": "https://localhost:8080/",
          "height": 299
        },
        "id": "0LSmjyHsbXed",
        "outputId": "b39fdaf8-c27d-44ca-c480-65ee6a494a69"
      },
      "source": [
        "print(np.average(fare_15['Fare']))\n",
        "fare_15['Fare'].plot.hist()\n",
        "plt.title('Fare for people aged 40 - 50')\n",
        "plt.show()"
      ],
      "execution_count": null,
      "outputs": [
        {
          "output_type": "stream",
          "text": [
            "41.163181395348836\n"
          ],
          "name": "stdout"
        },
        {
          "output_type": "display_data",
          "data": {
            "image/png": "[encoded data removed]",
            "text/plain": [
              "<Figure size 432x288 with 1 Axes>"
            ]
          },
          "metadata": {
            "tags": [],
            "needs_background": "light"
          }
        }
      ]
    },
    {
      "cell_type": "markdown",
      "metadata": {
        "id": "Ndr60npxdCeX"
      },
      "source": [
        "Average fare for people aged 40 - 50 is around 41"
      ]
    },
    {
      "cell_type": "code",
      "metadata": {
        "colab": {
          "base_uri": "https://localhost:8080/",
          "height": 299
        },
        "id": "Lbn7uBgNbaVV",
        "outputId": "c4aff63b-46e3-475e-d345-6565e2efca83"
      },
      "source": [
        "print(np.average(fare_16['Fare']))\n",
        "fare_16['Fare'].plot.hist()\n",
        "plt.title('Fare for people aged 50 - 60')\n",
        "plt.show()"
      ],
      "execution_count": null,
      "outputs": [
        {
          "output_type": "stream",
          "text": [
            "44.77480238095238\n"
          ],
          "name": "stdout"
        },
        {
          "output_type": "display_data",
          "data": {
            "image/png": "[encoded data removed]",
            "text/plain": [
              "<Figure size 432x288 with 1 Axes>"
            ]
          },
          "metadata": {
            "tags": [],
            "needs_background": "light"
          }
        }
      ]
    },
    {
      "cell_type": "markdown",
      "metadata": {
        "id": "UlLrEfJjdHo5"
      },
      "source": [
        "Average fare for people aged 50 - 60 is around 44"
      ]
    },
    {
      "cell_type": "code",
      "metadata": {
        "colab": {
          "base_uri": "https://localhost:8080/",
          "height": 299
        },
        "id": "zlJMBlJAbgig",
        "outputId": "82df64d3-ed6d-4bc1-ebcf-bf411558819b"
      },
      "source": [
        "print(np.average(fare_17['Fare']))\n",
        "fare_17['Fare'].plot.hist()\n",
        "plt.title('Fare for people aged 60 - 70')\n",
        "plt.show()"
      ],
      "execution_count": null,
      "outputs": [
        {
          "output_type": "stream",
          "text": [
            "45.91078235294118\n"
          ],
          "name": "stdout"
        },
        {
          "output_type": "display_data",
          "data": {
            "image/png": "[encoded data removed]",
            "text/plain": [
              "<Figure size 432x288 with 1 Axes>"
            ]
          },
          "metadata": {
            "tags": [],
            "needs_background": "light"
          }
        }
      ]
    },
    {
      "cell_type": "markdown",
      "metadata": {
        "id": "_x1ogG5_dVL7"
      },
      "source": [
        "Average fare for people aged 60 - 70 was around 45"
      ]
    },
    {
      "cell_type": "code",
      "metadata": {
        "colab": {
          "base_uri": "https://localhost:8080/",
          "height": 299
        },
        "id": "5UmqYrB7bqsA",
        "outputId": "0dd8f8fa-abbc-4383-c1c8-b2cb0cb7f2e7"
      },
      "source": [
        "print(np.average(fare_18['Fare']))\n",
        "fare_18['Fare'].plot.hist()\n",
        "plt.title('Fare for people aged 70 - 80')\n",
        "plt.show()"
      ],
      "execution_count": null,
      "outputs": [
        {
          "output_type": "stream",
          "text": [
            "25.936680000000003\n"
          ],
          "name": "stdout"
        },
        {
          "output_type": "display_data",
          "data": {
            "image/png": "[encoded data removed]",
            "text/plain": [
              "<Figure size 432x288 with 1 Axes>"
            ]
          },
          "metadata": {
            "tags": [],
            "needs_background": "light"
          }
        }
      ]
    },
    {
      "cell_type": "markdown",
      "metadata": {
        "id": "lKSVHBMFdbMc"
      },
      "source": [
        "Average fare for people aged 70 - 80 is around 25"
      ]
    },
    {
      "cell_type": "markdown",
      "metadata": {
        "id": "HlkyuJXHkc0S"
      },
      "source": [
        "---\n",
        "\n",
        "\n",
        "---"
      ]
    }
  ]
}